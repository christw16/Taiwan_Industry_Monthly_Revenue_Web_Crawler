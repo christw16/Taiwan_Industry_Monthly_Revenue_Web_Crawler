{
 "cells": [
  {
   "cell_type": "code",
   "execution_count": 1,
   "id": "740ce4a6",
   "metadata": {},
   "outputs": [],
   "source": [
    "import pandas as pd"
   ]
  },
  {
   "cell_type": "code",
   "execution_count": 2,
   "id": "57ed2f96",
   "metadata": {},
   "outputs": [],
   "source": [
    "rev_table = pd.read_html(\"https://mops.twse.com.tw/nas/t21/sii/t21sc03_111_1_0.html\")"
   ]
  },
  {
   "cell_type": "code",
   "execution_count": 3,
   "id": "b39aa866",
   "metadata": {},
   "outputs": [],
   "source": [
    "rev_df1 = rev_table[1] \n",
    "\n",
    "rev_df = rev_table[2]\n",
    "rev_df.to_csv(\"./new.csv\", index=False)\n",
    "df = pd.read_csv(\"new.csv\")"
   ]
  },
  {
   "cell_type": "code",
   "execution_count": 4,
   "id": "878c0625",
   "metadata": {},
   "outputs": [],
   "source": [
    "new_df = pd.DataFrame()"
   ]
  },
  {
   "cell_type": "code",
   "execution_count": 5,
   "id": "fb2c76ae",
   "metadata": {},
   "outputs": [
    {
     "data": {
      "text/html": [
       "<div>\n",
       "<style scoped>\n",
       "    .dataframe tbody tr th:only-of-type {\n",
       "        vertical-align: middle;\n",
       "    }\n",
       "\n",
       "    .dataframe tbody tr th {\n",
       "        vertical-align: top;\n",
       "    }\n",
       "\n",
       "    .dataframe thead th {\n",
       "        text-align: right;\n",
       "    }\n",
       "</style>\n",
       "<table border=\"1\" class=\"dataframe\">\n",
       "  <thead>\n",
       "    <tr style=\"text-align: right;\">\n",
       "      <th></th>\n",
       "      <th>公司名稱</th>\n",
       "      <th>當月營收</th>\n",
       "    </tr>\n",
       "  </thead>\n",
       "  <tbody>\n",
       "    <tr>\n",
       "      <th>1</th>\n",
       "      <td>台泥</td>\n",
       "      <td>7517896</td>\n",
       "    </tr>\n",
       "    <tr>\n",
       "      <th>2</th>\n",
       "      <td>亞泥</td>\n",
       "      <td>7420726</td>\n",
       "    </tr>\n",
       "    <tr>\n",
       "      <th>3</th>\n",
       "      <td>嘉泥</td>\n",
       "      <td>158052</td>\n",
       "    </tr>\n",
       "    <tr>\n",
       "      <th>4</th>\n",
       "      <td>環泥</td>\n",
       "      <td>592322</td>\n",
       "    </tr>\n",
       "    <tr>\n",
       "      <th>5</th>\n",
       "      <td>幸福</td>\n",
       "      <td>324664</td>\n",
       "    </tr>\n",
       "    <tr>\n",
       "      <th>6</th>\n",
       "      <td>信大</td>\n",
       "      <td>566897</td>\n",
       "    </tr>\n",
       "    <tr>\n",
       "      <th>7</th>\n",
       "      <td>東泥</td>\n",
       "      <td>166858</td>\n",
       "    </tr>\n",
       "  </tbody>\n",
       "</table>\n",
       "</div>"
      ],
      "text/plain": [
       "  公司名稱     當月營收\n",
       "1   台泥  7517896\n",
       "2   亞泥  7420726\n",
       "3   嘉泥   158052\n",
       "4   環泥   592322\n",
       "5   幸福   324664\n",
       "6   信大   566897\n",
       "7   東泥   166858"
      ]
     },
     "execution_count": 5,
     "metadata": {},
     "output_type": "execute_result"
    }
   ],
   "source": [
    "new_df[\"公司名稱\"] = df[\"Unnamed: 1_level_0\"]\n",
    "new_df[\"當月營收\"] = df[\"營業收入\"]\n",
    "new_df = new_df.drop(labels = [0, len(new_df)-1], axis = 0)\n",
    "\n",
    "new_df"
   ]
  },
  {
   "cell_type": "code",
   "execution_count": 6,
   "id": "d6b03007",
   "metadata": {},
   "outputs": [],
   "source": [
    "# 取出產業名稱\n",
    "rev_df1 = rev_table[1]  \n",
    "string1 = rev_df1.columns[0]\n",
    "string1 = (string1[4:])"
   ]
  },
  {
   "cell_type": "code",
   "execution_count": 7,
   "id": "36b46e53",
   "metadata": {},
   "outputs": [],
   "source": [
    "new_df[\"產業別\"] = string1"
   ]
  },
  {
   "cell_type": "code",
   "execution_count": 8,
   "id": "78aae37e",
   "metadata": {},
   "outputs": [
    {
     "data": {
      "text/html": [
       "<div>\n",
       "<style scoped>\n",
       "    .dataframe tbody tr th:only-of-type {\n",
       "        vertical-align: middle;\n",
       "    }\n",
       "\n",
       "    .dataframe tbody tr th {\n",
       "        vertical-align: top;\n",
       "    }\n",
       "\n",
       "    .dataframe thead th {\n",
       "        text-align: right;\n",
       "    }\n",
       "</style>\n",
       "<table border=\"1\" class=\"dataframe\">\n",
       "  <thead>\n",
       "    <tr style=\"text-align: right;\">\n",
       "      <th></th>\n",
       "      <th>公司名稱</th>\n",
       "      <th>當月營收</th>\n",
       "      <th>產業別</th>\n",
       "    </tr>\n",
       "  </thead>\n",
       "  <tbody>\n",
       "    <tr>\n",
       "      <th>0</th>\n",
       "      <td>台泥</td>\n",
       "      <td>7517896</td>\n",
       "      <td>水泥工業</td>\n",
       "    </tr>\n",
       "    <tr>\n",
       "      <th>1</th>\n",
       "      <td>亞泥</td>\n",
       "      <td>7420726</td>\n",
       "      <td>水泥工業</td>\n",
       "    </tr>\n",
       "    <tr>\n",
       "      <th>2</th>\n",
       "      <td>嘉泥</td>\n",
       "      <td>158052</td>\n",
       "      <td>水泥工業</td>\n",
       "    </tr>\n",
       "    <tr>\n",
       "      <th>3</th>\n",
       "      <td>環泥</td>\n",
       "      <td>592322</td>\n",
       "      <td>水泥工業</td>\n",
       "    </tr>\n",
       "    <tr>\n",
       "      <th>4</th>\n",
       "      <td>幸福</td>\n",
       "      <td>324664</td>\n",
       "      <td>水泥工業</td>\n",
       "    </tr>\n",
       "    <tr>\n",
       "      <th>5</th>\n",
       "      <td>信大</td>\n",
       "      <td>566897</td>\n",
       "      <td>水泥工業</td>\n",
       "    </tr>\n",
       "    <tr>\n",
       "      <th>6</th>\n",
       "      <td>東泥</td>\n",
       "      <td>166858</td>\n",
       "      <td>水泥工業</td>\n",
       "    </tr>\n",
       "  </tbody>\n",
       "</table>\n",
       "</div>"
      ],
      "text/plain": [
       "  公司名稱     當月營收   產業別\n",
       "0   台泥  7517896  水泥工業\n",
       "1   亞泥  7420726  水泥工業\n",
       "2   嘉泥   158052  水泥工業\n",
       "3   環泥   592322  水泥工業\n",
       "4   幸福   324664  水泥工業\n",
       "5   信大   566897  水泥工業\n",
       "6   東泥   166858  水泥工業"
      ]
     },
     "execution_count": 8,
     "metadata": {},
     "output_type": "execute_result"
    }
   ],
   "source": [
    "new_df = new_df.reset_index(drop=True)\n",
    "new_df"
   ]
  },
  {
   "cell_type": "code",
   "execution_count": 9,
   "id": "1d50ee99",
   "metadata": {},
   "outputs": [],
   "source": [
    "# 想法：\n",
    "# 新增欄位= 產業 e.g 水泥\n",
    "# index = stock \n",
    "# 取出公司名稱＋產業別＋當月營收[月份]\n",
    "# 將所有的df concat 在一起\n",
    "# 利用pandas的https://www.learncodewithmike.com/2021/04/pandas-groupby-and-aggregate-method.html 做整理 （漏斗）"
   ]
  },
  {
   "cell_type": "code",
   "execution_count": null,
   "id": "d602d64f",
   "metadata": {},
   "outputs": [],
   "source": []
  },
  {
   "cell_type": "code",
   "execution_count": null,
   "id": "5709b4ff",
   "metadata": {},
   "outputs": [],
   "source": []
  }
 ],
 "metadata": {
  "kernelspec": {
   "display_name": "Python [conda env:mlhw2] *",
   "language": "python",
   "name": "conda-env-mlhw2-py"
  },
  "language_info": {
   "codemirror_mode": {
    "name": "ipython",
    "version": 3
   },
   "file_extension": ".py",
   "mimetype": "text/x-python",
   "name": "python",
   "nbconvert_exporter": "python",
   "pygments_lexer": "ipython3",
   "version": "3.6.13"
  }
 },
 "nbformat": 4,
 "nbformat_minor": 5
}
